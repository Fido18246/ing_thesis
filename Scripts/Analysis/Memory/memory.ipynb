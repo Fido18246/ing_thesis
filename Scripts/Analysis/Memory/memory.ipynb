{
 "cells": [
  {
   "cell_type": "code",
   "execution_count": 1,
   "metadata": {},
   "outputs": [],
   "source": [
    "import os\n",
    "import numpy as np"
   ]
  },
  {
   "cell_type": "markdown",
   "metadata": {},
   "source": [
    "# Velikosti původních snímků"
   ]
  },
  {
   "cell_type": "code",
   "execution_count": 2,
   "metadata": {},
   "outputs": [
    {
     "name": "stdout",
     "output_type": "stream",
     "text": [
      "Původní snímky mají velikost 4167.78 +- 55.37\n"
     ]
    }
   ],
   "source": [
    "INPUT_PATH = f'../../../Data/Images_PoC/'\n",
    "\n",
    "list_of_names = os.listdir(INPUT_PATH)\n",
    "\n",
    "sizes = list()\n",
    "\n",
    "for i, name in enumerate(list_of_names):\n",
    "    sizes.append(os.path.getsize(f'{INPUT_PATH}{name}'))\n",
    "\n",
    "sizes = np.array(sizes) / 1024\n",
    "\n",
    "print(f'Původní snímky mají velikost {sizes.mean():.2f} +- {sizes.std():.2f}')"
   ]
  },
  {
   "cell_type": "markdown",
   "metadata": {},
   "source": [
    "# Velikosti resized snímků"
   ]
  },
  {
   "cell_type": "code",
   "execution_count": 3,
   "metadata": {},
   "outputs": [
    {
     "name": "stdout",
     "output_type": "stream",
     "text": [
      "Resized snímky mají velikost 392.19 +- 8.24\n"
     ]
    }
   ],
   "source": [
    "INPUT_PATH = f'../../../Results/Resizing_Images/Images_PoC/'\n",
    "\n",
    "list_of_names = os.listdir(INPUT_PATH)\n",
    "\n",
    "sizes = list()\n",
    "\n",
    "for i, name in enumerate(list_of_names):\n",
    "    sizes.append(os.path.getsize(f'{INPUT_PATH}{name}'))\n",
    "\n",
    "sizes = np.array(sizes) / 1024\n",
    "\n",
    "print(f'Resized snímky mají velikost {sizes.mean():.2f} +- {sizes.std():.2f}')"
   ]
  },
  {
   "cell_type": "markdown",
   "metadata": {},
   "source": [
    "# Feature space původních snímků"
   ]
  },
  {
   "cell_type": "code",
   "execution_count": 4,
   "metadata": {},
   "outputs": [
    {
     "name": "stdout",
     "output_type": "stream",
     "text": [
      "Resized snímky mají velikost 3915434.29 +- 6968.58\n"
     ]
    }
   ],
   "source": [
    "INPUT_PATH = f'../../../Results/Generating_Features/FoI_Xy_PoC_FULL/'\n",
    "\n",
    "list_of_names = os.listdir(INPUT_PATH)\n",
    "\n",
    "sizes = list()\n",
    "\n",
    "for i, name in enumerate(list_of_names):\n",
    "    sizes.append(os.path.getsize(f'{INPUT_PATH}{name}'))\n",
    "\n",
    "sizes = np.array(sizes) / 1024\n",
    "\n",
    "print(f'Resized snímky mají velikost {sizes.mean():.2f} +- {sizes.std():.2f}')"
   ]
  },
  {
   "cell_type": "markdown",
   "metadata": {},
   "source": [
    "# Feature space resized snímků"
   ]
  },
  {
   "cell_type": "code",
   "execution_count": 5,
   "metadata": {},
   "outputs": [
    {
     "name": "stdout",
     "output_type": "stream",
     "text": [
      "Resized snímky mají velikost 342249.74 +- 675.50\n"
     ]
    }
   ],
   "source": [
    "INPUT_PATH = f'../../../Results/Generating_Features/FoI_Xy_PoC/'\n",
    "\n",
    "list_of_names = os.listdir(INPUT_PATH)\n",
    "\n",
    "sizes = list()\n",
    "\n",
    "for i, name in enumerate(list_of_names):\n",
    "    sizes.append(os.path.getsize(f'{INPUT_PATH}{name}'))\n",
    "\n",
    "sizes = np.array(sizes) / 1024\n",
    "\n",
    "print(f'Resized snímky mají velikost {sizes.mean():.2f} +- {sizes.std():.2f}')"
   ]
  },
  {
   "cell_type": "code",
   "execution_count": 11,
   "metadata": {},
   "outputs": [
    {
     "data": {
      "text/plain": [
       "11.44030807978986"
      ]
     },
     "execution_count": 11,
     "metadata": {},
     "output_type": "execute_result"
    }
   ],
   "source": [
    "3915434 / 342249"
   ]
  },
  {
   "cell_type": "markdown",
   "metadata": {},
   "source": [
    "# Feature space klatrovaný"
   ]
  },
  {
   "cell_type": "code",
   "execution_count": 6,
   "metadata": {},
   "outputs": [
    {
     "name": "stdout",
     "output_type": "stream",
     "text": [
      "Klastrovaný mají velikost 7195.15 +- 80.56\n"
     ]
    }
   ],
   "source": [
    "INPUT_PATH = f'../../../Results/Clustering_Features/FoI_C_Xy_GPU_PoC/1584/'\n",
    "\n",
    "list_of_names = os.listdir(INPUT_PATH)\n",
    "\n",
    "sizes = list()\n",
    "\n",
    "for i, name in enumerate(list_of_names):\n",
    "    sizes.append(os.path.getsize(f'{INPUT_PATH}{name}'))\n",
    "\n",
    "sizes = np.array(sizes) / 1024\n",
    "\n",
    "print(f'Klastrovaný mají velikost {sizes.mean():.2f} +- {sizes.std():.2f}')"
   ]
  },
  {
   "cell_type": "markdown",
   "metadata": {},
   "source": [
    "# Feature space selected - klastrovaný - LinearSVC & SVC"
   ]
  },
  {
   "cell_type": "code",
   "execution_count": 7,
   "metadata": {},
   "outputs": [
    {
     "name": "stdout",
     "output_type": "stream",
     "text": [
      "Vybraný mají velikost 6410.88 +- 75.72\n"
     ]
    }
   ],
   "source": [
    "INPUT_PATH = f'../../../Results/Selecting_Features/FoI_C_S_Xy_PoC_1584/120/'\n",
    "\n",
    "list_of_names = os.listdir(INPUT_PATH)\n",
    "\n",
    "sizes = list()\n",
    "\n",
    "for i, name in enumerate(list_of_names):\n",
    "    sizes.append(os.path.getsize(f'{INPUT_PATH}{name}'))\n",
    "\n",
    "sizes = np.array(sizes) / 1024\n",
    "\n",
    "print(f'Vybraný mají velikost {sizes.mean():.2f} +- {sizes.std():.2f}')"
   ]
  },
  {
   "cell_type": "markdown",
   "metadata": {},
   "source": [
    "# Feature space selected - LinearSVC & SVC"
   ]
  },
  {
   "cell_type": "code",
   "execution_count": 8,
   "metadata": {},
   "outputs": [
    {
     "name": "stdout",
     "output_type": "stream",
     "text": [
      "Vybraný mají velikost 304939.69 +- 562.47\n"
     ]
    }
   ],
   "source": [
    "INPUT_PATH = f'../../../Results/Selecting_Features/FoI_S_Xy_PoC_1584/120/'\n",
    "\n",
    "list_of_names = os.listdir(INPUT_PATH)\n",
    "\n",
    "sizes = list()\n",
    "\n",
    "for i, name in enumerate(list_of_names):\n",
    "    sizes.append(os.path.getsize(f'{INPUT_PATH}{name}'))\n",
    "\n",
    "sizes = np.array(sizes) / 1024\n",
    "\n",
    "print(f'Vybraný mají velikost {sizes.mean():.2f} +- {sizes.std():.2f}')"
   ]
  },
  {
   "cell_type": "markdown",
   "metadata": {},
   "source": [
    "# Feature space selected - klastrovaný - RF"
   ]
  },
  {
   "cell_type": "code",
   "execution_count": 9,
   "metadata": {},
   "outputs": [
    {
     "name": "stdout",
     "output_type": "stream",
     "text": [
      "Vybraný mají velikost 5882.32 +- 70.29\n"
     ]
    }
   ],
   "source": [
    "INPUT_PATH = f'../../../Results/Selecting_Features/FoI_C_S_Xy_PoC_1584/110/'\n",
    "\n",
    "list_of_names = os.listdir(INPUT_PATH)\n",
    "\n",
    "sizes = list()\n",
    "\n",
    "for i, name in enumerate(list_of_names):\n",
    "    sizes.append(os.path.getsize(f'{INPUT_PATH}{name}'))\n",
    "\n",
    "sizes = np.array(sizes) / 1024\n",
    "\n",
    "print(f'Vybraný mají velikost {sizes.mean():.2f} +- {sizes.std():.2f}')"
   ]
  },
  {
   "cell_type": "markdown",
   "metadata": {},
   "source": [
    "# Feature space selected - RF"
   ]
  },
  {
   "cell_type": "code",
   "execution_count": 10,
   "metadata": {},
   "outputs": [
    {
     "name": "stdout",
     "output_type": "stream",
     "text": [
      "Vybraný mají velikost 280711.45 +- 565.17\n"
     ]
    }
   ],
   "source": [
    "INPUT_PATH = f'../../../Results/Selecting_Features/FoI_S_Xy_PoC_1584/110/'\n",
    "\n",
    "list_of_names = os.listdir(INPUT_PATH)\n",
    "\n",
    "sizes = list()\n",
    "\n",
    "for i, name in enumerate(list_of_names):\n",
    "    sizes.append(os.path.getsize(f'{INPUT_PATH}{name}'))\n",
    "\n",
    "sizes = np.array(sizes) / 1024\n",
    "\n",
    "print(f'Vybraný mají velikost {sizes.mean():.2f} +- {sizes.std():.2f}')"
   ]
  }
 ],
 "metadata": {
  "kernelspec": {
   "display_name": ".venv",
   "language": "python",
   "name": "python3"
  },
  "language_info": {
   "codemirror_mode": {
    "name": "ipython",
    "version": 3
   },
   "file_extension": ".py",
   "mimetype": "text/x-python",
   "name": "python",
   "nbconvert_exporter": "python",
   "pygments_lexer": "ipython3",
   "version": "3.10.13"
  }
 },
 "nbformat": 4,
 "nbformat_minor": 2
}
